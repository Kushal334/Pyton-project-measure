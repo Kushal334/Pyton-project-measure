{
 "cells": [
  {
   "cell_type": "code",
   "execution_count": 1,
   "metadata": {},
   "outputs": [],
   "source": [
    "# In[1]:\n",
    "# importing libraries\n",
    "import pandas as pd\n",
    "from sklearn.metrics.pairwise import linear_kernel\n",
    "from sklearn.feature_extraction.text import TfidfVectorizer"
   ]
  },
  {
   "cell_type": "code",
   "execution_count": 2,
   "metadata": {},
   "outputs": [],
   "source": [
    "df = pd.read_csv('Requirements Dataset.csv', encoding = 'latin-1')"
   ]
  },
  {
   "cell_type": "code",
   "execution_count": 3,
   "metadata": {},
   "outputs": [
    {
     "data": {
      "text/html": [
       "<div>\n",
       "<style scoped>\n",
       "    .dataframe tbody tr th:only-of-type {\n",
       "        vertical-align: middle;\n",
       "    }\n",
       "\n",
       "    .dataframe tbody tr th {\n",
       "        vertical-align: top;\n",
       "    }\n",
       "\n",
       "    .dataframe thead th {\n",
       "        text-align: right;\n",
       "    }\n",
       "</style>\n",
       "<table border=\"1\" class=\"dataframe\">\n",
       "  <thead>\n",
       "    <tr style=\"text-align: right;\">\n",
       "      <th></th>\n",
       "      <th>Topic</th>\n",
       "      <th>Functional Requirements</th>\n",
       "      <th>Nonfunctional Requirements</th>\n",
       "      <th>User Interface Requirements</th>\n",
       "      <th>Expected Results</th>\n",
       "      <th>Algorithms</th>\n",
       "      <th>Dataset</th>\n",
       "      <th>Programming Language used</th>\n",
       "      <th>Tools used</th>\n",
       "    </tr>\n",
       "  </thead>\n",
       "  <tbody>\n",
       "    <tr>\n",
       "      <th>0</th>\n",
       "      <td>House Price Prediction</td>\n",
       "      <td>This application is based on machine learning\\...</td>\n",
       "      <td>The performance of the application is quite go...</td>\n",
       "      <td>The user needs to enter the required informati...</td>\n",
       "      <td>Estimated appropriate price of a house based o...</td>\n",
       "      <td>Linear Regression for multiple variables</td>\n",
       "      <td>House dataset</td>\n",
       "      <td>MATLAB</td>\n",
       "      <td>MATLAB</td>\n",
       "    </tr>\n",
       "    <tr>\n",
       "      <th>1</th>\n",
       "      <td>Anomaly Detection In Ship Trajectory</td>\n",
       "      <td>The algorithm should be able to predict the an...</td>\n",
       "      <td>The algorithm should be time efficient i.e. it...</td>\n",
       "      <td>NaN</td>\n",
       "      <td>As an output of an anomaly detection algorithm...</td>\n",
       "      <td>SVM and KNN</td>\n",
       "      <td>Latitude, Longitude and Anomaly</td>\n",
       "      <td>R</td>\n",
       "      <td>RStudio</td>\n",
       "    </tr>\n",
       "    <tr>\n",
       "      <th>2</th>\n",
       "      <td>Hand written digits recognition</td>\n",
       "      <td>Consistent performance for minute and bulk data.</td>\n",
       "      <td>Fast recovery from errors.\\nAvailability.</td>\n",
       "      <td>MATLAB</td>\n",
       "      <td>Should recognise various styles of digits.</td>\n",
       "      <td>KNN</td>\n",
       "      <td>UCI</td>\n",
       "      <td>MATLAB</td>\n",
       "      <td>MATLAB</td>\n",
       "    </tr>\n",
       "    <tr>\n",
       "      <th>3</th>\n",
       "      <td>Social Network Ads</td>\n",
       "      <td>K-nearest neighbour algorithm is used.\\nDatase...</td>\n",
       "      <td>Availability- As far as the datasets are avail...</td>\n",
       "      <td>Console</td>\n",
       "      <td>A plot with number of user buying a product ,w...</td>\n",
       "      <td>K-Nearest Neighbour</td>\n",
       "      <td>Social Network Ads</td>\n",
       "      <td>R Script</td>\n",
       "      <td>R studio</td>\n",
       "    </tr>\n",
       "    <tr>\n",
       "      <th>4</th>\n",
       "      <td>music classification based on lyrics</td>\n",
       "      <td>Hardware:\\nIntel core processor i3\\n4GB RAM\\n\\...</td>\n",
       "      <td>Performance: Response within a second.\\nOpenne...</td>\n",
       "      <td>NaN</td>\n",
       "      <td>The word cloud visualizations of the most freq...</td>\n",
       "      <td>naive bayes</td>\n",
       "      <td>millions sets of songs</td>\n",
       "      <td>python</td>\n",
       "      <td>idle</td>\n",
       "    </tr>\n",
       "  </tbody>\n",
       "</table>\n",
       "</div>"
      ],
      "text/plain": [
       "                                  Topic  \\\n",
       "0                House Price Prediction   \n",
       "1  Anomaly Detection In Ship Trajectory   \n",
       "2       Hand written digits recognition   \n",
       "3                    Social Network Ads   \n",
       "4  music classification based on lyrics   \n",
       "\n",
       "                             Functional Requirements  \\\n",
       "0  This application is based on machine learning\\...   \n",
       "1  The algorithm should be able to predict the an...   \n",
       "2   Consistent performance for minute and bulk data.   \n",
       "3  K-nearest neighbour algorithm is used.\\nDatase...   \n",
       "4  Hardware:\\nIntel core processor i3\\n4GB RAM\\n\\...   \n",
       "\n",
       "                          Nonfunctional Requirements  \\\n",
       "0  The performance of the application is quite go...   \n",
       "1  The algorithm should be time efficient i.e. it...   \n",
       "2          Fast recovery from errors.\\nAvailability.   \n",
       "3  Availability- As far as the datasets are avail...   \n",
       "4  Performance: Response within a second.\\nOpenne...   \n",
       "\n",
       "                         User Interface Requirements  \\\n",
       "0  The user needs to enter the required informati...   \n",
       "1                                                NaN   \n",
       "2                                             MATLAB   \n",
       "3                                            Console   \n",
       "4                                                NaN   \n",
       "\n",
       "                                    Expected Results  \\\n",
       "0  Estimated appropriate price of a house based o...   \n",
       "1  As an output of an anomaly detection algorithm...   \n",
       "2         Should recognise various styles of digits.   \n",
       "3  A plot with number of user buying a product ,w...   \n",
       "4  The word cloud visualizations of the most freq...   \n",
       "\n",
       "                                 Algorithms                          Dataset  \\\n",
       "0  Linear Regression for multiple variables                    House dataset   \n",
       "1                               SVM and KNN  Latitude, Longitude and Anomaly   \n",
       "2                                       KNN                              UCI   \n",
       "3                       K-Nearest Neighbour               Social Network Ads   \n",
       "4                               naive bayes           millions sets of songs   \n",
       "\n",
       "  Programming Language used Tools used  \n",
       "0                    MATLAB     MATLAB  \n",
       "1                         R    RStudio  \n",
       "2                    MATLAB     MATLAB  \n",
       "3                  R Script   R studio  \n",
       "4                    python       idle  "
      ]
     },
     "execution_count": 3,
     "metadata": {},
     "output_type": "execute_result"
    }
   ],
   "source": [
    "df.head()"
   ]
  },
  {
   "cell_type": "code",
   "execution_count": 5,
   "metadata": {},
   "outputs": [],
   "source": [
    "# removing the stop words\n",
    "t_tfidf = TfidfVectorizer(stop_words='english')\n",
    "# filling the missing values with empty string\n",
    "df['Topic'] = df['Topic'].fillna('')\n",
    "# computing TF-IDF matrix required for calculating cosine similarity\n",
    "df_matrix = t_tfidf.fit_transform(df['Topic'])"
   ]
  },
  {
   "cell_type": "code",
   "execution_count": 8,
   "metadata": {},
   "outputs": [],
   "source": [
    "cosine_similarity = linear_kernel(df_matrix, df_matrix)"
   ]
  },
  {
   "cell_type": "code",
   "execution_count": 9,
   "metadata": {},
   "outputs": [],
   "source": [
    "indices = pd.Series(df['Topic'].index)"
   ]
  },
  {
   "cell_type": "code",
   "execution_count": 39,
   "metadata": {},
   "outputs": [],
   "source": [
    "import numpy as np\n",
    "def recommend(index, cosine_sim=cosine_similarity):\n",
    "    id = indices[index]\n",
    "    searchTxt=input(\"Enter string \")\n",
    "    # Get the pairwsie similarity scores of all Topics compared to that Topic, \n",
    "    # sorting them and getting top 10\n",
    "    Tlist={}\n",
    "    similarity_scores = list(enumerate(cosine_sim[index]))\n",
    "#     for i, x in enumerate(similarity_scores):\n",
    "#         Tlist.update({i: cosine_sim(x, searchTxt)})\n",
    "    \n",
    "    similarity_scores = sorted(similarity_scores, key=lambda x: x[1], reverse=True)\n",
    "    similarity_scores = similarity_scores[1:9]\n",
    "\n",
    "    # Get the Topics index\n",
    "    b_index = [i[0] for i in similarity_scores]\n",
    "\n",
    "    # Return the top 10 most similar topics using integer-location based indexing (iloc)\n",
    "    return df['Topic'].iloc[b_index]"
   ]
  },
  {
   "cell_type": "code",
   "execution_count": 40,
   "metadata": {},
   "outputs": [
    {
     "name": "stdout",
     "output_type": "stream",
     "text": [
      "Enter string price\n"
     ]
    },
    {
     "data": {
      "text/plain": [
       "13              Predicting House Price\n",
       "8     Stock Price prediction using Knn\n",
       "11                Precting stock price\n",
       "36                 Rainfall Prediction\n",
       "7             Diabetes Risk Prediction\n",
       "28            Diabetes Risk Prediction\n",
       "5              Stock Market Prediction\n",
       "33             Flight Delay Prediction\n",
       "Name: Topic, dtype: object"
      ]
     },
     "execution_count": 40,
     "metadata": {},
     "output_type": "execute_result"
    }
   ],
   "source": [
    "recommend(0)"
   ]
  },
  {
   "cell_type": "code",
   "execution_count": null,
   "metadata": {},
   "outputs": [],
   "source": []
  }
 ],
 "metadata": {
  "kernelspec": {
   "display_name": "Python 3",
   "language": "python",
   "name": "python3"
  },
  "language_info": {
   "codemirror_mode": {
    "name": "ipython",
    "version": 3
   },
   "file_extension": ".py",
   "mimetype": "text/x-python",
   "name": "python",
   "nbconvert_exporter": "python",
   "pygments_lexer": "ipython3",
   "version": "3.5.2"
  }
 },
 "nbformat": 4,
 "nbformat_minor": 2
}
