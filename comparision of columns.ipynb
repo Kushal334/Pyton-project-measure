{
 "cells": [
  {
   "cell_type": "code",
   "execution_count": 1,
   "metadata": {},
   "outputs": [],
   "source": [
    " import csv\n",
    " file = open(\"Requirements Dataset.csv\")\n",
    " reader = csv.reader(file)"
   ]
  },
  {
   "cell_type": "code",
   "execution_count": 11,
   "metadata": {},
   "outputs": [
    {
     "name": "stdout",
     "output_type": "stream",
     "text": [
      "Enter a wordHouse\n",
      "House is present in the file\n"
     ]
    }
   ],
   "source": [
    "#Search for a word in the entire document \"Requirements.csv\"\n",
    "import csv\n",
    "searchWord = input('Enter a word')\n",
    "flag =0\n",
    "\n",
    "with open('Requirements Dataset.csv', 'rt') as f:\n",
    "     reader = csv.reader(f, delimiter=' ') \n",
    "     for row in reader:\n",
    "          for field in row:\n",
    "              if field == searchWord :\n",
    "                flag=1\n",
    "     if flag==1:     \n",
    "        print (searchWord  + \" is present in the file\")\n",
    "     else :\n",
    "        print(searchWord + \" Not found\")"
   ]
  },
  {
   "cell_type": "code",
   "execution_count": 5,
   "metadata": {},
   "outputs": [
    {
     "name": "stdout",
     "output_type": "stream",
     "text": [
      "Enter complete string to search Social Network Ads\n",
      "Social Network Ads is present in the file\n"
     ]
    }
   ],
   "source": [
    "#Search for a complete topic name/ tools/ algorithms etc in  \"Requirements.csv\"\n",
    "import csv\n",
    "searchWord = input('Enter complete string to search ')\n",
    "flag =0\n",
    "\n",
    "with open('Requirements Dataset.csv', 'rt') as f:\n",
    "     reader = csv.reader(f, delimiter=',') \n",
    "     for row in reader:\n",
    "          for field in row:\n",
    "              if field == searchWord :\n",
    "                flag=1\n",
    "     if flag==1:     \n",
    "        print (searchWord  + \" is present in the file\")\n",
    "     else :\n",
    "        print(searchWord + \" Not found\")"
   ]
  },
  {
   "cell_type": "code",
   "execution_count": 19,
   "metadata": {},
   "outputs": [],
   "source": [
    "  from sklearn.feature_extraction.text import TfidfVectorizer"
   ]
  },
  {
   "cell_type": "code",
   "execution_count": 20,
   "metadata": {},
   "outputs": [],
   "source": [
    "tfidf = TfidfVectorizer()"
   ]
  },
  {
   "cell_type": "code",
   "execution_count": 39,
   "metadata": {},
   "outputs": [],
   "source": [
    "import pandas as pd\n",
    "import difflib as diff\n",
    "#Read the CSV\n",
    "df = pd.read_csv('Requirements Dataset.csv')\n",
    "#Create a new column 'diff' and get the result of comparision to it\n",
    "df['diff'] = df.apply(lambda x: diff.SequenceMatcher(None, x[0].strip(), x[1].strip()).ratio(), axis=1) \n",
    "#Save the dataframe to CSV and you could also save it in other formats like excel, html etc\n",
    "df.to_csv('outdata.csv',index=False)"
   ]
  },
  {
   "cell_type": "code",
   "execution_count": 40,
   "metadata": {},
   "outputs": [],
   "source": [
    "f = pd.read_csv('outdata.csv')"
   ]
  },
  {
   "cell_type": "code",
   "execution_count": 37,
   "metadata": {},
   "outputs": [
    {
     "data": {
      "text/html": [
       "<div>\n",
       "<style scoped>\n",
       "    .dataframe tbody tr th:only-of-type {\n",
       "        vertical-align: middle;\n",
       "    }\n",
       "\n",
       "    .dataframe tbody tr th {\n",
       "        vertical-align: top;\n",
       "    }\n",
       "\n",
       "    .dataframe thead th {\n",
       "        text-align: right;\n",
       "    }\n",
       "</style>\n",
       "<table border=\"1\" class=\"dataframe\">\n",
       "  <thead>\n",
       "    <tr style=\"text-align: right;\">\n",
       "      <th></th>\n",
       "      <th>Topic</th>\n",
       "      <th>Functional Requirements</th>\n",
       "      <th>Nonfunctional Requirements</th>\n",
       "      <th>User Interface Requirements</th>\n",
       "      <th>Expected Results</th>\n",
       "      <th>Algorithms</th>\n",
       "      <th>Dataset</th>\n",
       "      <th>Programming Language used</th>\n",
       "      <th>Tools used</th>\n",
       "      <th>diff</th>\n",
       "    </tr>\n",
       "  </thead>\n",
       "  <tbody>\n",
       "    <tr>\n",
       "      <th>0</th>\n",
       "      <td>House Price Prediction</td>\n",
       "      <td>This application is based on machine learning\\...</td>\n",
       "      <td>The performance of the application is quite go...</td>\n",
       "      <td>The user needs to enter the required informati...</td>\n",
       "      <td>Estimated appropriate price of a house based o...</td>\n",
       "      <td>Linear Regression for multiple variables</td>\n",
       "      <td>House dataset</td>\n",
       "      <td>MATLAB</td>\n",
       "      <td>MATLAB</td>\n",
       "      <td>0.000000</td>\n",
       "    </tr>\n",
       "    <tr>\n",
       "      <th>1</th>\n",
       "      <td>Anomaly Detection In Ship Trajectory</td>\n",
       "      <td>The algorithm should be able to predict the an...</td>\n",
       "      <td>The algorithm should be time efficient i.e. it...</td>\n",
       "      <td>NaN</td>\n",
       "      <td>As an output of an anomaly detection algorithm...</td>\n",
       "      <td>SVM and KNN</td>\n",
       "      <td>Latitude, Longitude and Anomaly</td>\n",
       "      <td>R</td>\n",
       "      <td>RStudio</td>\n",
       "      <td>0.168142</td>\n",
       "    </tr>\n",
       "    <tr>\n",
       "      <th>2</th>\n",
       "      <td>Hand written digits recognition</td>\n",
       "      <td>Consistent performance for minute and bulk data.</td>\n",
       "      <td>Fast recovery from errors.\\nAvailability.</td>\n",
       "      <td>MATLAB</td>\n",
       "      <td>Should recognise various styles of digits.</td>\n",
       "      <td>KNN</td>\n",
       "      <td>UCI</td>\n",
       "      <td>MATLAB</td>\n",
       "      <td>MATLAB</td>\n",
       "      <td>0.177215</td>\n",
       "    </tr>\n",
       "    <tr>\n",
       "      <th>3</th>\n",
       "      <td>Social Network Ads</td>\n",
       "      <td>K-nearest neighbour algorithm is used.\\nDatase...</td>\n",
       "      <td>Availability- As far as the datasets are avail...</td>\n",
       "      <td>Console</td>\n",
       "      <td>A plot with number of user buying a product ,w...</td>\n",
       "      <td>K-Nearest Neighbour</td>\n",
       "      <td>Social Network Ads</td>\n",
       "      <td>R Script</td>\n",
       "      <td>R studio</td>\n",
       "      <td>0.023077</td>\n",
       "    </tr>\n",
       "    <tr>\n",
       "      <th>4</th>\n",
       "      <td>music classification based on lyrics</td>\n",
       "      <td>Hardware:\\nIntel core processor i3\\n4GB RAM\\n\\...</td>\n",
       "      <td>Performance: Response within a second.\\nOpenne...</td>\n",
       "      <td>NaN</td>\n",
       "      <td>The word cloud visualizations of the most freq...</td>\n",
       "      <td>naive bayes</td>\n",
       "      <td>millions sets of songs</td>\n",
       "      <td>python</td>\n",
       "      <td>idle</td>\n",
       "      <td>0.194175</td>\n",
       "    </tr>\n",
       "  </tbody>\n",
       "</table>\n",
       "</div>"
      ],
      "text/plain": [
       "                                  Topic  \\\n",
       "0                House Price Prediction   \n",
       "1  Anomaly Detection In Ship Trajectory   \n",
       "2       Hand written digits recognition   \n",
       "3                    Social Network Ads   \n",
       "4  music classification based on lyrics   \n",
       "\n",
       "                             Functional Requirements  \\\n",
       "0  This application is based on machine learning\\...   \n",
       "1  The algorithm should be able to predict the an...   \n",
       "2   Consistent performance for minute and bulk data.   \n",
       "3  K-nearest neighbour algorithm is used.\\nDatase...   \n",
       "4  Hardware:\\nIntel core processor i3\\n4GB RAM\\n\\...   \n",
       "\n",
       "                          Nonfunctional Requirements  \\\n",
       "0  The performance of the application is quite go...   \n",
       "1  The algorithm should be time efficient i.e. it...   \n",
       "2          Fast recovery from errors.\\nAvailability.   \n",
       "3  Availability- As far as the datasets are avail...   \n",
       "4  Performance: Response within a second.\\nOpenne...   \n",
       "\n",
       "                         User Interface Requirements  \\\n",
       "0  The user needs to enter the required informati...   \n",
       "1                                                NaN   \n",
       "2                                             MATLAB   \n",
       "3                                            Console   \n",
       "4                                                NaN   \n",
       "\n",
       "                                    Expected Results  \\\n",
       "0  Estimated appropriate price of a house based o...   \n",
       "1  As an output of an anomaly detection algorithm...   \n",
       "2         Should recognise various styles of digits.   \n",
       "3  A plot with number of user buying a product ,w...   \n",
       "4  The word cloud visualizations of the most freq...   \n",
       "\n",
       "                                 Algorithms                          Dataset  \\\n",
       "0  Linear Regression for multiple variables                    House dataset   \n",
       "1                               SVM and KNN  Latitude, Longitude and Anomaly   \n",
       "2                                       KNN                              UCI   \n",
       "3                       K-Nearest Neighbour               Social Network Ads   \n",
       "4                               naive bayes           millions sets of songs   \n",
       "\n",
       "  Programming Language used Tools used      diff  \n",
       "0                    MATLAB     MATLAB  0.000000  \n",
       "1                         R    RStudio  0.168142  \n",
       "2                    MATLAB     MATLAB  0.177215  \n",
       "3                  R Script   R studio  0.023077  \n",
       "4                    python       idle  0.194175  "
      ]
     },
     "execution_count": 37,
     "metadata": {},
     "output_type": "execute_result"
    }
   ],
   "source": [
    "f.head()"
   ]
  }
 ],
 "metadata": {
  "kernelspec": {
   "display_name": "Python 3",
   "language": "python",
   "name": "python3"
  },
  "language_info": {
   "codemirror_mode": {
    "name": "ipython",
    "version": 3
   },
   "file_extension": ".py",
   "mimetype": "text/x-python",
   "name": "python",
   "nbconvert_exporter": "python",
   "pygments_lexer": "ipython3",
   "version": "3.5.2"
  }
 },
 "nbformat": 4,
 "nbformat_minor": 2
}
